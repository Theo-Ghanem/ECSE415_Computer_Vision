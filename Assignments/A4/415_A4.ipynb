{
 "cells": [
  {
   "cell_type": "markdown",
   "metadata": {},
   "source": []
  },
  {
   "cell_type": "markdown",
   "source": [
    "# ECSE 415 - Assignment 4:  Neural Networks\n",
    "## Theo Ghanem 260972584"
   ],
   "metadata": {
    "collapsed": false
   }
  },
  {
   "cell_type": "markdown",
   "source": [
    "## Part 1 - CIFAR-10 Classification using Convolution Neural Network"
   ],
   "metadata": {
    "collapsed": false
   }
  },
  {
   "cell_type": "code",
   "execution_count": 47,
   "outputs": [],
   "source": [
    "import torch\n",
    "from torch import nn\n",
    "from torchvision import datasets, transforms\n",
    "import matplotlib.pyplot as plt"
   ],
   "metadata": {
    "collapsed": false,
    "ExecuteTime": {
     "end_time": "2024-03-15T02:03:16.379238200Z",
     "start_time": "2024-03-15T02:03:16.347428600Z"
    }
   }
  },
  {
   "cell_type": "markdown",
   "source": [
    "Check the version of PyTorch and CUDA to make sure my laptop's GPU is detected properly"
   ],
   "metadata": {
    "collapsed": false
   }
  },
  {
   "cell_type": "code",
   "execution_count": 48,
   "outputs": [
    {
     "name": "stdout",
     "output_type": "stream",
     "text": [
      "cuda:0\n",
      "-----------------------------\n",
      "12.1\n",
      "PyTorch version: 2.2.1+cu121\n",
      "**********\n",
      "_CUDA version: \n",
      "**********\n",
      "Available GPU devices: 1\n",
      "Device Name: NVIDIA GeForce RTX 3050 Ti Laptop GPU\n"
     ]
    }
   ],
   "source": [
    "device = torch.device(\"cuda:0\" if torch.cuda.is_available() else \"cpu\")\n",
    "print(device)\n",
    "print(\"-----------------------------\")\n",
    "print(torch.version.cuda)\n",
    "print(f'PyTorch version: {torch.__version__}')\n",
    "print('*'*10)\n",
    "print(f'_CUDA version: ')\n",
    "print('*'*10)\n",
    "print(f'Available GPU devices: {torch.cuda.device_count()}')\n",
    "print(f'Device Name: {torch.cuda.get_device_name()}')"
   ],
   "metadata": {
    "collapsed": false,
    "ExecuteTime": {
     "end_time": "2024-03-15T02:03:16.442475300Z",
     "start_time": "2024-03-15T02:03:16.364203200Z"
    }
   }
  },
  {
   "cell_type": "markdown",
   "source": [
    "### 1. Implement a shallow CNN with the layers mentioned below.\n",
    "• A Convolution layer with 32 kernels of size 3x3\n",
    "• A ReLU activation\n",
    "• A Convolution layer with 64 kernels of size 3x3\n",
    "• A ReLU activation\n",
    "• A maxpool layer with kernels size of 2x2\n",
    "• A convolution layer with 64 kernels of size 3x3\n",
    "• A ReLU activation\n",
    "• A convolution layer with 64 kernels of size 3x3\n",
    "• A ReLU activation\n",
    "• A flattening layer. (This layer resizes a 3D tensor to a feature vector).\n",
    "• A fully connected layer with an output size of 10. (Classes should be predicted\n",
    "as numerical values (like 0-9).\n",
    "\n",
    "### 2. Use Pytorch Class torchvision.datasets.CIFAR10 to load the dataset.\n",
    "### 3. Training, validation and test settings are shown below.\n",
    "• 50,000 images for training (training set). Divide the 10,000 test set images of CIFAR10\n",
    "into two subsets by 1:1. 5,000 images for validation (validation set), and 5,000 images for\n",
    "final testing (test set).\n",
    "• Batch size = 32.\n",
    "• SGD optimizer with an initial learning rate of 0.002.\n",
    "• Loss function: categorical cross entropy criterion.\n",
    "• Training iteration can be 90,000 or more (If you use epoch counting, epoch can be 58 or\n",
    "more). Perform a validation every 5000 iterations (3 epochs). It may take about 30\n",
    "minutes on T4 GPU. If you don't have enough computational resources, you are allowed\n",
    "to reduce the number of images by taking a subset of this dataset or reduce the training\n",
    "iterations (epochs). State the size of your subset and iterations (epochs) in the README.\n",
    "• Use the default setting for the rest of the hyperparameters."
   ],
   "metadata": {
    "collapsed": false
   }
  },
  {
   "cell_type": "code",
   "execution_count": 62,
   "outputs": [
    {
     "name": "stdout",
     "output_type": "stream",
     "text": [
      "Files already downloaded and verified\n",
      "Files already downloaded and verified\n"
     ]
    }
   ],
   "source": [
    "from torch.utils.data import Subset\n",
    "\n",
    "# Define constants\n",
    "NUM_CLASSES = 10  # Number of classes in CIFAR-10\n",
    "BATCH_SIZE = 32  # Batch size for training\n",
    "LEARNING_RATE = 0.002  # Initial learning rate\n",
    "NUM_EPOCHS = 58  # Number of epochs for training (you can adjust this)\n",
    "\n",
    "# Define the size of the subset you want to take\n",
    "subset_size = 10000  # Adjust this value as needed\n",
    "\n",
    "# Define data transforms\n",
    "transform = transforms.Compose([\n",
    "  transforms.ToTensor(),  # Convert image to tensor\n",
    "  transforms.Normalize((0.5, 0.5, 0.5), (0.5, 0.5, 0.5))  # Normalize data\n",
    "])\n",
    "\n",
    "# Load the CIFAR-10 dataset\n",
    "train_dataset = datasets.CIFAR10(root='./data', train=True, download=True, transform=transform)\n",
    "test_dataset = datasets.CIFAR10(root='./data', train=False, download=True, transform=transform)\n",
    "\n",
    "# Generate a list of indices from 0 to subset_size\n",
    "indices = list(range(subset_size))\n",
    "\n",
    "# Create the subset\n",
    "subset_train_dataset = Subset(train_dataset, indices)\n",
    "\n",
    "# Split the test set into validation and test sets\n",
    "validation_size = 5000\n",
    "test_size = len(test_dataset) - validation_size\n",
    "\n",
    "val_dataset, _ = torch.utils.data.random_split(train_dataset, [validation_size, len(train_dataset) - validation_size])\n",
    "test_dataset = torch.utils.data.Subset(test_dataset, indices=range(test_size))\n",
    "\n",
    "# Create data loaders\n",
    "train_loader = torch.utils.data.DataLoader(subset_train_dataset, batch_size=BATCH_SIZE, shuffle=True)\n",
    "val_loader = torch.utils.data.DataLoader(val_dataset, batch_size=BATCH_SIZE, shuffle=False)\n",
    "test_loader = torch.utils.data.DataLoader(test_dataset, batch_size=BATCH_SIZE, shuffle=False)"
   ],
   "metadata": {
    "collapsed": false,
    "ExecuteTime": {
     "end_time": "2024-03-15T02:26:14.935575600Z",
     "start_time": "2024-03-15T02:26:13.523449700Z"
    }
   }
  },
  {
   "cell_type": "code",
   "execution_count": 63,
   "outputs": [],
   "source": [
    "# Define the CNN model\n",
    "class CNN(nn.Module):\n",
    "  def __init__(self):\n",
    "    super(CNN, self).__init__()\n",
    "    self.conv1 = nn.Conv2d(3, 32, kernel_size=3, padding=1)  # Convolution layer 1\n",
    "    self.relu1 = nn.ReLU()  # ReLU activation\n",
    "    self.conv2 = nn.Conv2d(32, 64, kernel_size=3, padding=1)  # Convolution layer 2\n",
    "    self.relu2 = nn.ReLU()  # ReLU activation\n",
    "    self.pool = nn.MaxPool2d(kernel_size=2, stride=2)  # Max pooling layer\n",
    "    self.conv3 = nn.Conv2d(64, 64, kernel_size=3, padding=1)  # Convolution layer 3\n",
    "    self.relu3 = nn.ReLU()  # ReLU activation\n",
    "    self.conv4 = nn.Conv2d(64, 64, kernel_size=3, padding=1)  # Convolution layer 4\n",
    "    self.relu4 = nn.ReLU()  # ReLU activation\n",
    "    self.flatten = nn.Flatten()  # Flatten layer\n",
    "    self.fc = nn.Linear(64 * 16 * 16, NUM_CLASSES)  # Fully connected layer\n",
    "\n",
    "  def forward(self, x):\n",
    "    x = self.relu1(self.conv1(x))\n",
    "    x = self.relu2(self.conv2(x))\n",
    "    x = self.pool(x)\n",
    "    x = self.relu3(self.conv3(x))\n",
    "    x = self.relu4(self.conv4(x))\n",
    "    x = self.flatten(x)\n",
    "    x = self.fc(x)\n",
    "    return x\n"
   ],
   "metadata": {
    "collapsed": false,
    "ExecuteTime": {
     "end_time": "2024-03-15T02:26:16.024654700Z",
     "start_time": "2024-03-15T02:26:15.993436400Z"
    }
   }
  },
  {
   "cell_type": "code",
   "execution_count": 64,
   "outputs": [
    {
     "name": "stdout",
     "output_type": "stream",
     "text": [
      "Epoch: 1/58 | Train Loss: 720.073 | Val Loss: 360.835 | Val Acc: 0.121\n",
      "Epoch: 2/58 | Train Loss: 717.728 | Val Loss: 359.142 | Val Acc: 0.175\n",
      "Epoch: 3/58 | Train Loss: 710.016 | Val Loss: 352.461 | Val Acc: 0.216\n",
      "Epoch: 4/58 | Train Loss: 679.790 | Val Loss: 331.168 | Val Acc: 0.268\n",
      "Epoch: 5/58 | Train Loss: 640.192 | Val Loss: 318.021 | Val Acc: 0.280\n",
      "Epoch: 6/58 | Train Loss: 615.905 | Val Loss: 306.830 | Val Acc: 0.320\n",
      "Epoch: 7/58 | Train Loss: 595.152 | Val Loss: 297.333 | Val Acc: 0.330\n",
      "Epoch: 8/58 | Train Loss: 577.826 | Val Loss: 291.259 | Val Acc: 0.337\n",
      "Epoch: 9/58 | Train Loss: 562.436 | Val Loss: 283.859 | Val Acc: 0.367\n",
      "Epoch: 10/58 | Train Loss: 548.029 | Val Loss: 276.935 | Val Acc: 0.390\n",
      "Epoch: 11/58 | Train Loss: 532.018 | Val Loss: 269.792 | Val Acc: 0.397\n",
      "Epoch: 12/58 | Train Loss: 516.630 | Val Loss: 263.577 | Val Acc: 0.408\n",
      "Epoch: 13/58 | Train Loss: 505.144 | Val Loss: 258.489 | Val Acc: 0.414\n",
      "Epoch: 14/58 | Train Loss: 494.832 | Val Loss: 250.440 | Val Acc: 0.433\n",
      "Epoch: 15/58 | Train Loss: 486.582 | Val Loss: 248.291 | Val Acc: 0.441\n",
      "Epoch: 16/58 | Train Loss: 477.343 | Val Loss: 250.410 | Val Acc: 0.431\n",
      "Epoch: 17/58 | Train Loss: 470.259 | Val Loss: 247.196 | Val Acc: 0.443\n",
      "Epoch: 18/58 | Train Loss: 465.027 | Val Loss: 238.659 | Val Acc: 0.469\n",
      "Epoch: 19/58 | Train Loss: 457.667 | Val Loss: 236.679 | Val Acc: 0.456\n",
      "Epoch: 20/58 | Train Loss: 451.479 | Val Loss: 231.174 | Val Acc: 0.480\n",
      "Epoch: 21/58 | Train Loss: 445.037 | Val Loss: 234.276 | Val Acc: 0.474\n",
      "Epoch: 22/58 | Train Loss: 439.683 | Val Loss: 228.975 | Val Acc: 0.482\n",
      "Epoch: 23/58 | Train Loss: 435.391 | Val Loss: 231.181 | Val Acc: 0.469\n",
      "Epoch: 24/58 | Train Loss: 430.234 | Val Loss: 236.663 | Val Acc: 0.466\n",
      "Epoch: 25/58 | Train Loss: 425.657 | Val Loss: 225.399 | Val Acc: 0.493\n",
      "Epoch: 26/58 | Train Loss: 422.134 | Val Loss: 223.407 | Val Acc: 0.488\n",
      "Epoch: 27/58 | Train Loss: 417.725 | Val Loss: 220.545 | Val Acc: 0.496\n",
      "Epoch: 28/58 | Train Loss: 413.244 | Val Loss: 229.979 | Val Acc: 0.473\n",
      "Epoch: 29/58 | Train Loss: 410.006 | Val Loss: 217.711 | Val Acc: 0.504\n",
      "Epoch: 30/58 | Train Loss: 406.079 | Val Loss: 218.701 | Val Acc: 0.507\n",
      "Epoch: 31/58 | Train Loss: 401.452 | Val Loss: 220.399 | Val Acc: 0.500\n",
      "Epoch: 32/58 | Train Loss: 398.640 | Val Loss: 215.682 | Val Acc: 0.502\n",
      "Epoch: 33/58 | Train Loss: 394.916 | Val Loss: 214.210 | Val Acc: 0.514\n",
      "Epoch: 34/58 | Train Loss: 391.953 | Val Loss: 215.340 | Val Acc: 0.513\n",
      "Epoch: 35/58 | Train Loss: 387.918 | Val Loss: 209.444 | Val Acc: 0.522\n",
      "Epoch: 36/58 | Train Loss: 384.799 | Val Loss: 214.072 | Val Acc: 0.512\n",
      "Epoch: 37/58 | Train Loss: 381.108 | Val Loss: 215.757 | Val Acc: 0.519\n",
      "Epoch: 38/58 | Train Loss: 377.324 | Val Loss: 214.466 | Val Acc: 0.516\n",
      "Epoch: 39/58 | Train Loss: 374.108 | Val Loss: 203.686 | Val Acc: 0.537\n",
      "Epoch: 40/58 | Train Loss: 369.856 | Val Loss: 203.517 | Val Acc: 0.537\n",
      "Epoch: 41/58 | Train Loss: 367.078 | Val Loss: 204.791 | Val Acc: 0.538\n",
      "Epoch: 42/58 | Train Loss: 363.494 | Val Loss: 202.074 | Val Acc: 0.540\n",
      "Epoch: 43/58 | Train Loss: 360.122 | Val Loss: 205.751 | Val Acc: 0.532\n",
      "Epoch: 44/58 | Train Loss: 357.108 | Val Loss: 199.014 | Val Acc: 0.548\n",
      "Epoch: 45/58 | Train Loss: 354.679 | Val Loss: 203.762 | Val Acc: 0.534\n",
      "Epoch: 46/58 | Train Loss: 349.501 | Val Loss: 202.093 | Val Acc: 0.543\n",
      "Epoch: 47/58 | Train Loss: 346.796 | Val Loss: 203.389 | Val Acc: 0.548\n",
      "Epoch: 48/58 | Train Loss: 342.697 | Val Loss: 195.724 | Val Acc: 0.555\n",
      "Epoch: 49/58 | Train Loss: 339.862 | Val Loss: 193.337 | Val Acc: 0.568\n",
      "Epoch: 50/58 | Train Loss: 335.780 | Val Loss: 194.655 | Val Acc: 0.558\n",
      "Epoch: 51/58 | Train Loss: 332.062 | Val Loss: 194.874 | Val Acc: 0.558\n",
      "Epoch: 52/58 | Train Loss: 328.743 | Val Loss: 190.865 | Val Acc: 0.567\n",
      "Epoch: 53/58 | Train Loss: 324.182 | Val Loss: 194.332 | Val Acc: 0.560\n",
      "Epoch: 54/58 | Train Loss: 321.612 | Val Loss: 197.099 | Val Acc: 0.563\n",
      "Epoch: 55/58 | Train Loss: 318.042 | Val Loss: 188.682 | Val Acc: 0.575\n",
      "Epoch: 56/58 | Train Loss: 312.738 | Val Loss: 192.421 | Val Acc: 0.562\n",
      "Epoch: 57/58 | Train Loss: 310.416 | Val Loss: 199.786 | Val Acc: 0.554\n",
      "Epoch: 58/58 | Train Loss: 307.432 | Val Loss: 189.724 | Val Acc: 0.578\n"
     ]
    }
   ],
   "source": [
    "import time\n",
    "\n",
    "# Initialize the model and optimizer\n",
    "model = CNN()\n",
    "device = torch.device(\"cuda\" if torch.cuda.is_available() else \"cpu\")\n",
    "# device = torch.device(\"cpu\")\n",
    "model.to(device)\n",
    "\n",
    "# Define the loss function\n",
    "criterion = nn.CrossEntropyLoss()\n",
    "\n",
    "optimizer = torch.optim.SGD(model.parameters(), lr=LEARNING_RATE)\n",
    "\n",
    "# Training loop\n",
    "train_losses, val_losses, val_accuracies = [], [], []\n",
    "\n",
    "start_time = time.time()  # Record the start time\n",
    "\n",
    "for epoch in range(NUM_EPOCHS):\n",
    "  # Training phase\n",
    "  model.train()\n",
    "  total_train_loss = 0\n",
    "  for data, target in train_loader:\n",
    "    data, target = data.to(device), target.to(device)  # Move data to GPU\n",
    "    optimizer.zero_grad()  # Reset gradients for each batch\n",
    "    output = model(data)  # Forward pass\n",
    "    loss = criterion(output, target)  # Calculate loss\n",
    "    loss.backward()  # Backward pass\n",
    "    optimizer.step()  # Update model parameters\n",
    "    total_train_loss += loss.item()\n",
    "\n",
    "  # Validation phase (after every few training iterations)\n",
    "  if (epoch + 1) % 1 == 0:  # Validate every 5th epoch\n",
    "    # if train_iter % 5000 == 0:\n",
    "    model.eval()\n",
    "    with torch.no_grad():\n",
    "      val_loss = 0\n",
    "      correct = 0\n",
    "      for data, target in val_loader:\n",
    "        data, target = data.to(device), target.to(device)  # Move data to GPU\n",
    "        output = model(data)\n",
    "        val_loss += criterion(output, target).item()\n",
    "        predicted = torch.argmax(output, dim=1)\n",
    "        correct += (predicted == target).sum().item()\n",
    "      val_acc = correct / len(val_dataset)\n",
    "      val_losses.append(val_loss)\n",
    "      val_accuracies.append(val_acc)\n",
    "      train_losses.append(total_train_loss)\n",
    "      print(f'Epoch: {epoch+1}/{NUM_EPOCHS} | Train Loss: {total_train_loss:.3f} | Val Loss: {val_loss:.3f} | Val Acc: {val_acc:.3f}')\n",
    "\n",
    "end_time = time.time()  # Record the end time\n",
    "\n",
    "# Save the model\n",
    "PATH = './cifar_net.pth'\n",
    "torch.save(model.state_dict(), PATH)\n",
    "\n",
    "kernel3x3_runtime= end_time - start_time\n",
    "print(f'Total execution time: {kernel3x3_runtime} seconds')"
   ],
   "metadata": {
    "collapsed": false,
    "ExecuteTime": {
     "end_time": "2024-03-15T02:42:12.684762900Z",
     "start_time": "2024-03-15T02:26:17.852590400Z"
    }
   }
  },
  {
   "cell_type": "markdown",
   "source": [
    "### 4. Plot the training loss, validation loss, and validation accuracy over the training iterations (or epochs). \n",
    "#### State whether the training appears to be overfitting and why."
   ],
   "metadata": {
    "collapsed": false
   }
  },
  {
   "cell_type": "code",
   "execution_count": 66,
   "outputs": [
    {
     "data": {
      "text/plain": "<Figure size 2000x600 with 2 Axes>",
      "image/png": "[encoded data removed]"
     },
     "metadata": {},
     "output_type": "display_data"
    }
   ],
   "source": [
    "fig, axs = plt.subplots(1, 2, figsize=(20, 6))\n",
    "\n",
    "# Plot for Training loss and Validation loss\n",
    "axs[0].plot(range(1, len(train_losses) + 1), train_losses, label='Training Loss', color='b')\n",
    "axs[0].plot(range(1, len(val_losses) + 1), val_losses, label='Validation Loss', color='r')\n",
    "axs[0].set_xlabel('Epoch')\n",
    "axs[0].set_ylabel('Loss')\n",
    "axs[0].set_title('Train vs Validation Loss')\n",
    "axs[0].legend()\n",
    "axs[0].grid(True)\n",
    "\n",
    "# Plot for Validation accuracy\n",
    "axs[1].plot(range(1, len(val_accuracies) + 1), val_accuracies, label='Validation Accuracy', color='g')\n",
    "axs[1].set_xlabel('Epoch')\n",
    "axs[1].set_ylabel('Accuracy')\n",
    "axs[1].set_title('Validation Accuracy')\n",
    "axs[1].legend()\n",
    "axs[1].grid(True)\n",
    "\n",
    "# Show the plots\n",
    "plt.show()"
   ],
   "metadata": {
    "collapsed": false,
    "ExecuteTime": {
     "end_time": "2024-03-15T02:43:55.478178500Z",
     "start_time": "2024-03-15T02:43:55.092173800Z"
    }
   }
  },
  {
   "cell_type": "markdown",
   "source": [
    "### 5. Give the test accuracy on the test set from the epoch where the validation accuracy is maximum as our test accuracy result.\n",
    "\n"
   ],
   "metadata": {
    "collapsed": false
   }
  },
  {
   "cell_type": "markdown",
   "source": [],
   "metadata": {
    "collapsed": false
   }
  },
  {
   "cell_type": "code",
   "execution_count": 68,
   "outputs": [
    {
     "name": "stdout",
     "output_type": "stream",
     "text": [
      "Test Accuracy of the model on the test images: 56.86 %\n"
     ]
    }
   ],
   "source": [
    "model.load_state_dict(torch.load(PATH))\n",
    "\n",
    "with torch.no_grad():\n",
    "  correct = 0\n",
    "  total = 0\n",
    "  for images, labels in test_loader:\n",
    "    images = images.to(device)\n",
    "    labels = labels.to(device)\n",
    "    outputs = model(images)\n",
    "    _, predicted = torch.max(outputs.data, 1)\n",
    "    total += labels.size(0)\n",
    "    correct += (predicted == labels).sum().item()\n",
    "\n",
    "print('Test Accuracy of the model on the test images: {} %'.format((correct / total) * 100))"
   ],
   "metadata": {
    "collapsed": false,
    "ExecuteTime": {
     "end_time": "2024-03-15T02:45:14.562206900Z",
     "start_time": "2024-03-15T02:45:13.148874900Z"
    }
   }
  },
  {
   "cell_type": "markdown",
   "source": [
    "### 6. Let’s discuss the effects of the Kernel size. Change all kernel sizes to 5x5 and train a new network with the same other hyperparameters. Compare the run time and the test accuracy of models under different kernel sizes and briefly discuss the possible factors that affect the performance of a CNN."
   ],
   "metadata": {
    "collapsed": false
   }
  },
  {
   "cell_type": "code",
   "execution_count": 69,
   "outputs": [],
   "source": [
    "class CNN(nn.Module):\n",
    "  def __init__(self):\n",
    "    super(CNN, self).__init__()\n",
    "    self.conv1 = nn.Conv2d(3, 32, kernel_size=5, padding=2)  # Convolution layer 1\n",
    "    self.relu1 = nn.ReLU()  # ReLU activation\n",
    "    self.conv2 = nn.Conv2d(32, 64, kernel_size=5, padding=2)  # Convolution layer 2\n",
    "    self.relu2 = nn.ReLU()  # ReLU activation\n",
    "    self.pool = nn.MaxPool2d(kernel_size=2, stride=2)  # Max pooling layer\n",
    "    self.conv3 = nn.Conv2d(64, 64, kernel_size=5, padding=2)  # Convolution layer 3\n",
    "    self.relu3 = nn.ReLU()  # ReLU activation\n",
    "    self.conv4 = nn.Conv2d(64, 64, kernel_size=5, padding=2)  # Convolution layer 4\n",
    "    self.relu4 = nn.ReLU()  # ReLU activation\n",
    "    self.flatten = nn.Flatten()  # Flatten layer\n",
    "    self.fc = nn.Linear(64 * 16 * 16, NUM_CLASSES)  # Fully connected layer\n",
    "\n",
    "  def forward(self, x):\n",
    "    x = self.relu1(self.conv1(x))\n",
    "    x = self.relu2(self.conv2(x))\n",
    "    x = self.pool(x)\n",
    "    x = self.relu3(self.conv3(x))\n",
    "    x = self.relu4(self.conv4(x))\n",
    "    x = self.flatten(x)\n",
    "    x = self.fc(x)\n",
    "    return x"
   ],
   "metadata": {
    "collapsed": false,
    "ExecuteTime": {
     "end_time": "2024-03-15T02:45:19.496116900Z",
     "start_time": "2024-03-15T02:45:19.482358500Z"
    }
   }
  },
  {
   "cell_type": "code",
   "execution_count": null,
   "outputs": [
    {
     "name": "stdout",
     "output_type": "stream",
     "text": [
      "Epoch: 1/58 | Train Loss: 720.277 | Val Loss: 361.026 | Val Acc: 0.174\n",
      "Epoch: 2/58 | Train Loss: 718.401 | Val Loss: 359.317 | Val Acc: 0.171\n",
      "Epoch: 3/58 | Train Loss: 704.157 | Val Loss: 341.576 | Val Acc: 0.227\n",
      "Epoch: 4/58 | Train Loss: 650.931 | Val Loss: 322.316 | Val Acc: 0.261\n",
      "Epoch: 5/58 | Train Loss: 618.967 | Val Loss: 310.042 | Val Acc: 0.293\n",
      "Epoch: 6/58 | Train Loss: 597.980 | Val Loss: 297.633 | Val Acc: 0.319\n",
      "Epoch: 7/58 | Train Loss: 574.350 | Val Loss: 287.557 | Val Acc: 0.341\n",
      "Epoch: 8/58 | Train Loss: 550.550 | Val Loss: 271.268 | Val Acc: 0.385\n",
      "Epoch: 9/58 | Train Loss: 527.538 | Val Loss: 271.905 | Val Acc: 0.395\n",
      "Epoch: 10/58 | Train Loss: 509.002 | Val Loss: 259.695 | Val Acc: 0.393\n",
      "Epoch: 11/58 | Train Loss: 494.938 | Val Loss: 254.960 | Val Acc: 0.407\n",
      "Epoch: 12/58 | Train Loss: 485.050 | Val Loss: 245.213 | Val Acc: 0.437\n",
      "Epoch: 13/58 | Train Loss: 474.878 | Val Loss: 241.621 | Val Acc: 0.447\n",
      "Epoch: 14/58 | Train Loss: 467.024 | Val Loss: 240.434 | Val Acc: 0.448\n",
      "Epoch: 15/58 | Train Loss: 459.114 | Val Loss: 243.587 | Val Acc: 0.446\n",
      "Epoch: 16/58 | Train Loss: 450.882 | Val Loss: 235.049 | Val Acc: 0.459\n",
      "Epoch: 17/58 | Train Loss: 445.397 | Val Loss: 251.400 | Val Acc: 0.412\n",
      "Epoch: 18/58 | Train Loss: 439.920 | Val Loss: 241.875 | Val Acc: 0.445\n",
      "Epoch: 19/58 | Train Loss: 434.575 | Val Loss: 231.312 | Val Acc: 0.463\n",
      "Epoch: 20/58 | Train Loss: 428.843 | Val Loss: 228.720 | Val Acc: 0.484\n",
      "Epoch: 21/58 | Train Loss: 424.517 | Val Loss: 219.607 | Val Acc: 0.499\n",
      "Epoch: 22/58 | Train Loss: 418.091 | Val Loss: 223.603 | Val Acc: 0.491\n",
      "Epoch: 23/58 | Train Loss: 414.345 | Val Loss: 219.985 | Val Acc: 0.510\n",
      "Epoch: 24/58 | Train Loss: 409.702 | Val Loss: 217.838 | Val Acc: 0.511\n",
      "Epoch: 25/58 | Train Loss: 403.844 | Val Loss: 212.198 | Val Acc: 0.519\n",
      "Epoch: 26/58 | Train Loss: 398.708 | Val Loss: 210.754 | Val Acc: 0.521\n",
      "Epoch: 27/58 | Train Loss: 394.079 | Val Loss: 209.696 | Val Acc: 0.524\n"
     ]
    }
   ],
   "source": [
    "import time\n",
    "\n",
    "# Initialize the model and optimizer\n",
    "model = CNN()\n",
    "device = torch.device(\"cuda\" if torch.cuda.is_available() else \"cpu\")\n",
    "# device = torch.device(\"cpu\")\n",
    "model.to(device)\n",
    "\n",
    "# Define the loss function\n",
    "criterion = nn.CrossEntropyLoss()\n",
    "\n",
    "optimizer = torch.optim.SGD(model.parameters(), lr=LEARNING_RATE)\n",
    "\n",
    "# Training loop\n",
    "train_losses, val_losses, val_accuracies = [], [], []\n",
    "\n",
    "start_time = time.time()  # Record the start time\n",
    "\n",
    "for epoch in range(NUM_EPOCHS):\n",
    "  # Training phase\n",
    "  model.train()\n",
    "  total_train_loss = 0\n",
    "  for data, target in train_loader:\n",
    "    data, target = data.to(device), target.to(device)  # Move data to GPU\n",
    "    optimizer.zero_grad()  # Reset gradients for each batch\n",
    "    output = model(data)  # Forward pass\n",
    "    loss = criterion(output, target)  # Calculate loss\n",
    "    loss.backward()  # Backward pass\n",
    "    optimizer.step()  # Update model parameters\n",
    "    total_train_loss += loss.item()\n",
    "\n",
    "  # Validation phase (after every few training iterations)\n",
    "  if (epoch + 1) % 1 == 0:  # Validate every 5th epoch\n",
    "    model.eval()\n",
    "    with torch.no_grad():\n",
    "      val_loss = 0\n",
    "      correct = 0\n",
    "      for data, target in val_loader:\n",
    "        data, target = data.to(device), target.to(device)  # Move data to GPU\n",
    "        output = model(data)\n",
    "        val_loss += criterion(output, target).item()\n",
    "        predicted = torch.argmax(output, dim=1)\n",
    "        correct += (predicted == target).sum().item()\n",
    "      val_acc = correct / len(val_dataset)\n",
    "      val_losses.append(val_loss)\n",
    "      val_accuracies.append(val_acc)\n",
    "      train_losses.append(total_train_loss)\n",
    "      print(f'Epoch: {epoch+1}/{NUM_EPOCHS} | Train Loss: {total_train_loss:.3f} | Val Loss: {val_loss:.3f} | Val Acc: {val_acc:.3f}')\n",
    "\n",
    "end_time = time.time()  # Record the end time\n",
    "\n",
    "# Save the model\n",
    "PATH = './cifar_net.pth'\n",
    "torch.save(model.state_dict(), PATH)\n",
    "\n",
    "print(f'Total execution time: {end_time - start_time} seconds')"
   ],
   "metadata": {
    "collapsed": false,
    "is_executing": true,
    "ExecuteTime": {
     "start_time": "2024-03-15T02:47:54.487340Z"
    }
   }
  },
  {
   "cell_type": "markdown",
   "source": [
    "### Plot the training loss, validation loss, and validation accuracy over the training iterations (or epochs). "
   ],
   "metadata": {
    "collapsed": false
   }
  },
  {
   "cell_type": "code",
   "execution_count": null,
   "outputs": [],
   "source": [
    "fig, axs = plt.subplots(1, 2, figsize=(20, 6))\n",
    "\n",
    "# Plot for Training loss and Validation loss\n",
    "axs[0].plot(range(1, len(train_losses) + 1), train_losses, label='Training Loss', color='b')\n",
    "axs[0].plot(range(1, len(val_losses) + 1), val_losses, label='Validation Loss', color='r')\n",
    "axs[0].set_xlabel('Epoch')\n",
    "axs[0].set_ylabel('Loss')\n",
    "axs[0].set_title('Train vs Validation Loss')\n",
    "axs[0].legend()\n",
    "axs[0].grid(True)\n",
    "\n",
    "# Plot for Validation accuracy\n",
    "axs[1].plot(range(1, len(val_accuracies) + 1), val_accuracies, label='Validation Accuracy', color='g')\n",
    "axs[1].set_xlabel('Epoch')\n",
    "axs[1].set_ylabel('Accuracy')\n",
    "axs[1].set_title('Validation Accuracy')\n",
    "axs[1].legend()\n",
    "axs[1].grid(True)\n",
    "\n",
    "# Show the plots\n",
    "plt.show()"
   ],
   "metadata": {
    "collapsed": false,
    "ExecuteTime": {
     "start_time": "2024-03-15T02:09:43.362606700Z"
    }
   }
  },
  {
   "cell_type": "markdown",
   "source": [
    "### 7. Use Pytorch Class torchvision.models.resnet18 to implement a deep network ResNet18. Set the training iteration as 6000 or more (If you use epoch counting, epoch can be 5 or more) and perform a validation on the validation set every 500 iterations (1 epoch). Give the test accuracy on the test set from the iteration (or epoch) where the validation accuracy is maximum as the test accuracy result. The rest of the hyperparameters should be the same as the above shallow CNN. Note that:\n",
    "#### 7.1 By setting the parameter pretrained, you can choose to either train a new ResNet18 model from scratch or fine-tune the ResNet18 model that has been fully trained on the ImageNet dataset.\n",
    "#### 7.2 Since the image size of CIFAR10 is 32x32 and the standard ResNet18 accepts 224x224 input by default, we may need to first resize the input image to 224x224 (You are free to use other available transformation, such as padding). Besides, the output channel of the final fully connected layer of ResNet18 needs to be modified to 10 to meet the classification requirements of CIFAR10.\n",
    "Compare the impact of using a pre-trained ResNet18 versus not and discuss the reason. Compare the test accuracy of the deep ResNet18 versus the shallow CNN."
   ],
   "metadata": {
    "collapsed": false
   }
  },
  {
   "cell_type": "code",
   "execution_count": null,
   "outputs": [],
   "source": [
    "import torch\n",
    "from torch import nn\n",
    "from torch.nn import functional as F\n",
    "from torchvision import datasets, transforms\n",
    "from torchvision import models  # Import the models submodule\n",
    "\n",
    "# Define constants\n",
    "NUM_CLASSES = 10  # Number of classes in CIFAR-10\n",
    "BATCH_SIZE = 32  # Batch size for training\n",
    "LEARNING_RATE = 0.002  # Initial learning rate\n",
    "NUM_EPOCHS = 20  # Adjust as needed (5 or more)\n",
    "NUM_ITERATIONS = NUM_EPOCHS * len(train_loader)  # Total training iterations\n",
    "\n",
    "# Data transforms (including resize)\n",
    "transform = transforms.Compose([\n",
    "  transforms.Resize((224, 224)),  # Resize image to 224x224\n",
    "  transforms.ToTensor(),\n",
    "  transforms.Normalize((0.5, 0.5, 0.5), (0.5, 0.5, 0.5))\n",
    "])\n",
    "\n",
    "# Load the dataset with the new transform\n",
    "train_dataset = datasets.CIFAR10(root='./data', train=True, download=True, transform=transform)\n",
    "\n",
    "# Load validation and test sets with the same transform\n",
    "val_dataset = datasets.CIFAR10(root='./data', train=False, transform=transform, download=True)\n",
    "test_dataset = datasets.CIFAR10(root='./data', train=False, transform=transform, download=True)\n",
    "\n",
    "# Create data loaders\n",
    "train_loader = torch.utils.data.DataLoader(train_dataset, batch_size=BATCH_SIZE, shuffle=True)\n",
    "val_loader = torch.utils.data.DataLoader(val_dataset, batch_size=BATCH_SIZE, shuffle=False)\n",
    "test_loader = torch.utils.data.DataLoader(test_dataset, batch_size=BATCH_SIZE, shuffle=False)\n",
    "\n",
    "# Function to train and validate the model\n",
    "def train_validate(model, train_loader, val_loader, optimizer, criterion):\n",
    "  best_val_acc = 0\n",
    "  best_model = None\n",
    "\n",
    "  for epoch in range(NUM_EPOCHS):\n",
    "    for i, (data, target) in enumerate(train_loader):\n",
    "      # Training phase (same as previous code)\n",
    "      optimizer.zero_grad()\n",
    "      output = model(data)\n",
    "      loss = criterion(output, target)\n",
    "      loss.backward()\n",
    "      optimizer.step()\n",
    "\n",
    "      if (i + 1) % (len(train_loader)) == 0:  # Validation every epoch\n",
    "        val_loss, val_acc = validate(model, val_loader, criterion)\n",
    "        print(f'Epoch: [{epoch+1}/{NUM_EPOCHS}], Step: [{i+1}/{NUM_ITERATIONS}], Val Loss: {val_loss:.3f}, Val Acc: {val_acc:.3f}')\n",
    "\n",
    "        # Update best model based on validation accuracy\n",
    "        if val_acc > best_val_acc:\n",
    "          best_val_acc = val_acc\n",
    "          best_model = model.copy()  # Copy the model weights\n",
    "\n",
    "# Function to perform validation (same as previous code)\n",
    "def validate(model, data_loader, criterion):\n",
    "  model.eval()\n",
    "  with torch.no_grad():\n",
    "    total_val_loss = 0\n",
    "    correct = 0\n",
    "    for data, target in data_loader:\n",
    "      output = model(data)\n",
    "      loss = criterion(output, target)\n",
    "      total_val_loss += loss.item()\n",
    "      predicted = torch.argmax(output, dim=1)\n",
    "      correct += (predicted == target).sum().item()\n",
    "    val_acc = correct / len(data_loader.dataset)\n",
    "    return total_val_loss / len(data_loader.dataset), val_acc\n",
    "\n",
    "# Define and load the ResNet18 model\n",
    "model = models.resnet18(pretrained=False)  # Train from scratch (adjust for fine-tuning)\n",
    "\n",
    "# Modify the last layer for 10 class output\n",
    "num_ftrs = model.fc.in_features  # Number of features from the last layer\n",
    "model.fc = nn.Linear(num_ftrs, NUM_CLASSES)  # Replace with 10 output neurons\n",
    "\n",
    "# Move model to device\n",
    "device = torch.device(\"cuda\" if torch.cuda.is_available() else \"cpu\")\n",
    "model.to(device)\n",
    "\n",
    "# Optimizer and loss function (same as previous code)\n",
    "optimizer = torch.optim.SGD(model.parameters(), lr=LEARNING_RATE)\n",
    "criterion = nn.CrossEntropyLoss()\n",
    "\n",
    "# Train and validate the model\n",
    "train_validate(model, train_loader, val_loader, optimizer, criterion)"
   ],
   "metadata": {
    "collapsed": false,
    "ExecuteTime": {
     "end_time": "2024-03-15T02:09:43.369410Z",
     "start_time": "2024-03-15T02:09:43.369410Z"
    }
   }
  }
 ],
 "metadata": {
  "colab": {
   "provenance": [],
   "toc_visible": true
  },
  "kernelspec": {
   "name": "python3",
   "language": "python",
   "display_name": "Python 3 (ipykernel)"
  },
  "language_info": {
   "name": "python"
  }
 },
 "nbformat": 4,
 "nbformat_minor": 0
}
